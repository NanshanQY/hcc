{
 "cells": [
  {
   "cell_type": "markdown",
   "id": "9ab0a831",
   "metadata": {},
   "source": [
    "题目描述：给定一组活动，每个活动由开始时间和结束时间表示，选择尽可能多的活动，使得它们之间没有重叠。返回最多能选择多少个活动。\n",
    "示例：\n",
    "输入: [[1, 3], [2, 5], [4, 7], [6, 8]]\n",
    "输出: 3\n",
    "解释: 可以选择活动 [1, 3], [4, 7], [6, 8]，它们没有重叠，最多能选择 3 个活动。"
   ]
  },
  {
   "cell_type": "code",
   "execution_count": 3,
   "id": "0191e517",
   "metadata": {},
   "outputs": [
    {
     "data": {
      "text/plain": [
       "2"
      ]
     },
     "execution_count": 3,
     "metadata": {},
     "output_type": "execute_result"
    }
   ],
   "source": [
    "def activity(a):\n",
    "    count = 1\n",
    "    # 需要按照活动结束时间排序，然后遍历看是否有开始时间大于结束时间的\n",
    "    # 对于结束时间，需要\n",
    "    a.sort(key = lambda x: x[1])\n",
    "    max_end = a[0][1]\n",
    "\n",
    "    for start, end in a[1:]:\n",
    "        if start >= max_end:\n",
    "            max_end = end\n",
    "            count += 1\n",
    "    return count\n",
    "\n",
    "a = [[1, 3], [2, 5], [4, 7], [6, 8]]\n",
    "activity(a)\n"
   ]
  },
  {
   "cell_type": "code",
   "execution_count": null,
   "id": "0df70c65",
   "metadata": {},
   "outputs": [],
   "source": []
  }
 ],
 "metadata": {
  "kernelspec": {
   "display_name": "base",
   "language": "python",
   "name": "python3"
  },
  "language_info": {
   "codemirror_mode": {
    "name": "ipython",
    "version": 3
   },
   "file_extension": ".py",
   "mimetype": "text/x-python",
   "name": "python",
   "nbconvert_exporter": "python",
   "pygments_lexer": "ipython3",
   "version": "3.12.3"
  }
 },
 "nbformat": 4,
 "nbformat_minor": 5
}
