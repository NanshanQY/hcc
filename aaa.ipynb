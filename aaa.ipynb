{
 "cells": [
  {
   "cell_type": "code",
   "execution_count": 1,
   "id": "713a1a09",
   "metadata": {},
   "outputs": [
    {
     "name": "stdout",
     "output_type": "stream",
     "text": [
      "0\n",
      "0\n",
      "0\n",
      "1\n"
     ]
    }
   ],
   "source": [
    "from typing import List\n",
    "\n",
    "def find_min(nums: List[int]) -> int:\n",
    "    left, right = 0, len(nums) - 1\n",
    "    \n",
    "    while left < right:\n",
    "        mid = left + (right - left) // 2\n",
    "        \n",
    "        if nums[mid] > nums[right]:\n",
    "            # 最小值在右半区\n",
    "            left = mid + 1\n",
    "        elif nums[mid] < nums[right]:\n",
    "            # 最小值在左半区（含mid）\n",
    "            right = mid\n",
    "        else:\n",
    "            # nums[mid] == nums[right]，无法判断，右边界左移\n",
    "            right -= 1\n",
    "    \n",
    "    return nums[left]\n",
    "\n",
    "# 测试示例\n",
    "print(find_min([1, 0]))  # 输出 0\n",
    "print(find_min([4, 5, 6, 7, 0, 1, 2]))  # 输出 0\n",
    "print(find_min([2, 2, 2, 0, 1]))  # 输出 0\n",
    "print(find_min([1]))  # 输出 1\n"
   ]
  }
 ],
 "metadata": {
  "kernelspec": {
   "display_name": "base",
   "language": "python",
   "name": "python3"
  },
  "language_info": {
   "codemirror_mode": {
    "name": "ipython",
    "version": 3
   },
   "file_extension": ".py",
   "mimetype": "text/x-python",
   "name": "python",
   "nbconvert_exporter": "python",
   "pygments_lexer": "ipython3",
   "version": "3.12.3"
  }
 },
 "nbformat": 4,
 "nbformat_minor": 5
}
