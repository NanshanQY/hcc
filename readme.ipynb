执行scheduler.py
optimizer.py采用启发式+数学模型求解马尔可夫单步最优解
visualizer用于可视化，原始代码10ms查询一次状态
scheduler.py用于模拟执行，传参如下：

字段名              数据类型               解释                                                 直接对应 upgrader 中的数据
isUpgrading        布尔值 (true/false)   核心状态：表示该组件当前是否正在升级。                     upgrader.get_upgrade_status()
fromVersion        字符串                升级前的原始版本号。                                    upgrader.available_versions[c][0]
toVersion          字符串                计划升级到的目标版本号。                                 upgrader.upgrade_candidates[c]
startTime          浮点数/null           升级开始时的 Unix 时间戳。如果还未开始，则为null。          upgrader.start_times.get(c, 0)
expectedDuration   数字                  预计的升级时长（秒）。                                   upgrader.upgrade_durations[c]
actualDuration     数字/null             实际完成升级所用的时长（秒）。仅在升级结束后有值。            upgrader.get_upgrade_times().get(c)
success            布尔值/null           最终结果：升级成功 (true) 或失败 (false)。仅在结束后有值。   用于替换 visualizer 中复杂的版本比较逻辑
 
