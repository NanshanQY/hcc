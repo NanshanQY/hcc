{
 "cells": [
  {
   "cell_type": "markdown",
   "id": "31b8e4e9",
   "metadata": {},
   "source": [
    "## 多个模块协同工作，用的是目标：最大化升级后版本索引的和"
   ]
  }
 ],
 "metadata": {
  "language_info": {
   "name": "python"
  }
 },
 "nbformat": 4,
 "nbformat_minor": 5
}
